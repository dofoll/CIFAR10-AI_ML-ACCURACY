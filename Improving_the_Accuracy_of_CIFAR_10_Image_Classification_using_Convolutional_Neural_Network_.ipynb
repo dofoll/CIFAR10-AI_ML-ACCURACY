{
  "cells": [
    {
      "cell_type": "markdown",
      "metadata": {
        "id": "view-in-github",
        "colab_type": "text"
      },
      "source": [
        "<a href=\"https://colab.research.google.com/github/dofoll/CIFAR10-AI_ML-ACCURACY/blob/main/Improving_the_Accuracy_of_CIFAR_10_Image_Classification_using_Convolutional_Neural_Network_.ipynb\" target=\"_parent\"><img src=\"https://colab.research.google.com/assets/colab-badge.svg\" alt=\"Open In Colab\"/></a>"
      ]
    },
    {
      "cell_type": "code",
      "execution_count": null,
      "metadata": {
        "collapsed": true,
        "id": "5ad62ba8",
        "outputId": "858b2e0c-b0ba-4006-d15b-db631dd2699b"
      },
      "outputs": [
        {
          "name": "stdout",
          "output_type": "stream",
          "text": [
            "Requirement already satisfied: numpy in c:\\users\\david\\anaconda3\\lib\\site-packages (1.21.4)\n",
            "Requirement already satisfied: pandas in c:\\users\\david\\anaconda3\\lib\\site-packages (1.3.4)\n",
            "Requirement already satisfied: python-dateutil>=2.7.3 in c:\\users\\david\\anaconda3\\lib\\site-packages (from pandas) (2.8.2)\n",
            "Requirement already satisfied: numpy>=1.17.3 in c:\\users\\david\\anaconda3\\lib\\site-packages (from pandas) (1.21.4)\n",
            "Requirement already satisfied: pytz>=2017.3 in c:\\users\\david\\anaconda3\\lib\\site-packages (from pandas) (2021.3)\n",
            "Requirement already satisfied: six>=1.5 in c:\\users\\david\\anaconda3\\lib\\site-packages (from python-dateutil>=2.7.3->pandas) (1.16.0)\n",
            "Requirement already satisfied: keras in c:\\users\\david\\anaconda3\\lib\\site-packages (2.9.0)\n",
            "Requirement already satisfied: matplotlib in c:\\users\\david\\anaconda3\\lib\\site-packages (3.5.0)\n",
            "Requirement already satisfied: pillow>=6.2.0 in c:\\users\\david\\anaconda3\\lib\\site-packages (from matplotlib) (9.0.1)\n",
            "Requirement already satisfied: pyparsing>=2.2.1 in c:\\users\\david\\anaconda3\\lib\\site-packages (from matplotlib) (3.0.4)\n",
            "Requirement already satisfied: cycler>=0.10 in c:\\users\\david\\anaconda3\\lib\\site-packages (from matplotlib) (0.11.0)\n",
            "Requirement already satisfied: python-dateutil>=2.7 in c:\\users\\david\\anaconda3\\lib\\site-packages (from matplotlib) (2.8.2)\n",
            "Requirement already satisfied: kiwisolver>=1.0.1 in c:\\users\\david\\anaconda3\\lib\\site-packages (from matplotlib) (1.3.2)\n",
            "Requirement already satisfied: fonttools>=4.22.0 in c:\\users\\david\\anaconda3\\lib\\site-packages (from matplotlib) (4.25.0)\n",
            "Requirement already satisfied: packaging>=20.0 in c:\\users\\david\\anaconda3\\lib\\site-packages (from matplotlib) (21.3)\n",
            "Requirement already satisfied: setuptools-scm>=4 in c:\\users\\david\\anaconda3\\lib\\site-packages (from matplotlib) (7.0.5)\n",
            "Requirement already satisfied: numpy>=1.17 in c:\\users\\david\\anaconda3\\lib\\site-packages (from matplotlib) (1.21.4)\n",
            "Requirement already satisfied: six>=1.5 in c:\\users\\david\\anaconda3\\lib\\site-packages (from python-dateutil>=2.7->matplotlib) (1.16.0)\n",
            "Requirement already satisfied: tomli>=1.0.0 in c:\\users\\david\\anaconda3\\lib\\site-packages (from setuptools-scm>=4->matplotlib) (1.2.2)\n",
            "Requirement already satisfied: typing-extensions in c:\\users\\david\\anaconda3\\lib\\site-packages (from setuptools-scm>=4->matplotlib) (4.1.1)\n",
            "Requirement already satisfied: setuptools in c:\\users\\david\\anaconda3\\lib\\site-packages (from setuptools-scm>=4->matplotlib) (61.2.0)\n"
          ]
        }
      ],
      "source": [
        "#!pip install numpy\n",
        "#!pip install pandas\n",
        "#!pip install keras\n",
        "#!pip install matplotlib\n"
      ],
      "id": "5ad62ba8"
    },
    {
      "cell_type": "code",
      "execution_count": null,
      "metadata": {
        "id": "f4bedff9"
      },
      "outputs": [],
      "source": [
        "import keras\n",
        "\n",
        "from keras.models import Sequential\n",
        "from keras.layers import Dense\n",
        "#from keras.utils import to_categorical"
      ],
      "id": "f4bedff9"
    },
    {
      "cell_type": "code",
      "execution_count": null,
      "metadata": {
        "colab": {
          "background_save": true
        },
        "id": "ec1b7221",
        "outputId": "36903b47-4e9f-41a4-e5df-d749cb2bc4c1"
      },
      "outputs": [
        {
          "data": {
            "application/vnd.google.colaboratory.intrinsic+json": {
              "type": "string"
            },
            "text/plain": [
              "'tensorflow'"
            ]
          },
          "execution_count": 2,
          "metadata": {},
          "output_type": "execute_result"
        }
      ],
      "source": [
        "#checking the backend that keras is using\n",
        "keras.backend.backend()"
      ],
      "id": "ec1b7221"
    },
    {
      "cell_type": "code",
      "execution_count": null,
      "metadata": {
        "id": "976e2c5a"
      },
      "outputs": [],
      "source": [
        "import tensorflow as tf\n",
        "from tensorflow.keras import datasets, layers, models\n",
        "import numpy as np\n",
        "import matplotlib.pyplot as plt"
      ],
      "id": "976e2c5a"
    },
    {
      "cell_type": "code",
      "execution_count": null,
      "metadata": {
        "id": "23ba814e"
      },
      "outputs": [],
      "source": [
        "#import data\n",
        "from keras.datasets import cifar10"
      ],
      "id": "23ba814e"
    },
    {
      "cell_type": "code",
      "execution_count": null,
      "metadata": {
        "id": "35c0f527"
      },
      "outputs": [],
      "source": [
        "#reading the imported data\n",
        "(X_train, y_train), (X_test, y_test) = datasets.cifar10.load_data()"
      ],
      "id": "35c0f527"
    },
    {
      "cell_type": "code",
      "execution_count": null,
      "metadata": {
        "id": "e9186217",
        "outputId": "a3091302-92bc-4efd-a4c1-c857c4e16ded",
        "scrolled": true
      },
      "outputs": [
        {
          "data": {
            "text/plain": [
              "(50000, 32, 32, 3)"
            ]
          },
          "execution_count": 8,
          "metadata": {},
          "output_type": "execute_result"
        }
      ],
      "source": [
        "#no of images in the train dataset\n",
        "X_train.shape"
      ],
      "id": "e9186217"
    },
    {
      "cell_type": "code",
      "execution_count": null,
      "metadata": {
        "id": "b195cd84",
        "outputId": "8632cd49-9d64-4b94-fd29-7d6bc8ea80e6"
      },
      "outputs": [
        {
          "data": {
            "text/plain": [
              "(10000, 32, 32, 3)"
            ]
          },
          "execution_count": 9,
          "metadata": {},
          "output_type": "execute_result"
        }
      ],
      "source": [
        "#no of images in the test dataset\n",
        "X_test.shape"
      ],
      "id": "b195cd84"
    },
    {
      "cell_type": "code",
      "execution_count": null,
      "metadata": {
        "id": "894f65fd",
        "outputId": "a690dec9-922c-4441-e2be-5b5e83f63962"
      },
      "outputs": [
        {
          "data": {
            "text/plain": [
              "(50000, 1)"
            ]
          },
          "execution_count": 10,
          "metadata": {},
          "output_type": "execute_result"
        }
      ],
      "source": [
        "y_train.shape"
      ],
      "id": "894f65fd"
    },
    {
      "cell_type": "code",
      "execution_count": null,
      "metadata": {
        "id": "9033ed84",
        "outputId": "ead02cbb-279a-4fa7-cbbf-b863ac464949"
      },
      "outputs": [
        {
          "data": {
            "text/plain": [
              "(10000, 1)"
            ]
          },
          "execution_count": 11,
          "metadata": {},
          "output_type": "execute_result"
        }
      ],
      "source": [
        "y_test.shape"
      ],
      "id": "9033ed84"
    },
    {
      "cell_type": "code",
      "execution_count": null,
      "metadata": {
        "id": "c37db4da"
      },
      "outputs": [],
      "source": [
        "#CHECKING TYPE OF ARRAY O FTHE DATASET\\\\"
      ],
      "id": "c37db4da"
    },
    {
      "cell_type": "code",
      "execution_count": null,
      "metadata": {
        "id": "73843a7b",
        "outputId": "16ab82ad-f324-41c4-9ebe-36a2483516ff"
      },
      "outputs": [
        {
          "data": {
            "text/plain": [
              "array([[[[159, 102, 101],\n",
              "         [150,  91,  95],\n",
              "         [153,  95,  97],\n",
              "         ...,\n",
              "         [ 91,  71,  56],\n",
              "         [ 74,  63,  55],\n",
              "         [ 76,  58,  55]],\n",
              "\n",
              "        [[142,  75,  68],\n",
              "         [146,  72,  66],\n",
              "         [155,  76,  65],\n",
              "         ...,\n",
              "         [127, 105,  71],\n",
              "         [122, 111,  93],\n",
              "         [ 86,  69,  61]],\n",
              "\n",
              "        [[109,  67,  75],\n",
              "         [ 99,  58,  60],\n",
              "         [105,  59,  52],\n",
              "         ...,\n",
              "         [137, 112,  80],\n",
              "         [163, 132, 105],\n",
              "         [ 93,  72,  71]],\n",
              "\n",
              "        ...,\n",
              "\n",
              "        [[244, 129,  70],\n",
              "         [240, 123,  65],\n",
              "         [241, 122,  65],\n",
              "         ...,\n",
              "         [156,  42,  15],\n",
              "         [179,  59,  26],\n",
              "         [200,  73,  36]],\n",
              "\n",
              "        [[246, 133,  74],\n",
              "         [243, 128,  72],\n",
              "         [243, 127,  70],\n",
              "         ...,\n",
              "         [162,  44,  14],\n",
              "         [178,  56,  22],\n",
              "         [192,  65,  27]],\n",
              "\n",
              "        [[246, 139,  82],\n",
              "         [243, 133,  78],\n",
              "         [244, 132,  77],\n",
              "         ...,\n",
              "         [166,  47,  14],\n",
              "         [173,  51,  17],\n",
              "         [182,  57,  19]]],\n",
              "\n",
              "\n",
              "       [[[164, 206,  84],\n",
              "         [105, 140,  61],\n",
              "         [118, 148, 101],\n",
              "         ...,\n",
              "         [109, 147,  73],\n",
              "         [108, 147,  69],\n",
              "         [ 91, 129,  57]],\n",
              "\n",
              "        [[167, 213,  84],\n",
              "         [116, 160,  49],\n",
              "         [ 72, 109,  43],\n",
              "         ...,\n",
              "         [105, 142,  79],\n",
              "         [105, 142,  72],\n",
              "         [ 89, 127,  57]],\n",
              "\n",
              "        [[140, 191,  65],\n",
              "         [142, 193,  66],\n",
              "         [119, 163,  79],\n",
              "         ...,\n",
              "         [104, 139,  84],\n",
              "         [ 84, 120,  58],\n",
              "         [ 78, 115,  49]],\n",
              "\n",
              "        ...,\n",
              "\n",
              "        [[139, 148,  81],\n",
              "         [142, 155,  74],\n",
              "         [135, 156,  72],\n",
              "         ...,\n",
              "         [ 89, 134,  28],\n",
              "         [ 97, 148,  24],\n",
              "         [126, 176,  49]],\n",
              "\n",
              "        [[163, 157,  85],\n",
              "         [153, 164,  82],\n",
              "         [146, 164,  90],\n",
              "         ...,\n",
              "         [ 85, 130,  19],\n",
              "         [ 98, 148,  27],\n",
              "         [127, 178,  48]],\n",
              "\n",
              "        [[183, 153, 102],\n",
              "         [176, 182, 116],\n",
              "         [154, 154, 100],\n",
              "         ...,\n",
              "         [ 94, 134,  29],\n",
              "         [ 91, 133,  26],\n",
              "         [122, 170,  44]]],\n",
              "\n",
              "\n",
              "       [[[ 28,  35,  39],\n",
              "         [ 30,  34,  44],\n",
              "         [ 33,  44,  47],\n",
              "         ...,\n",
              "         [ 43,  56,  45],\n",
              "         [ 52,  64,  53],\n",
              "         [ 46,  58,  47]],\n",
              "\n",
              "        [[ 27,  30,  38],\n",
              "         [ 27,  28,  41],\n",
              "         [ 21,  31,  39],\n",
              "         ...,\n",
              "         [112, 136,  97],\n",
              "         [117, 140, 101],\n",
              "         [115, 138, 100]],\n",
              "\n",
              "        [[ 34,  36,  42],\n",
              "         [ 33,  33,  43],\n",
              "         [ 24,  30,  40],\n",
              "         ...,\n",
              "         [175, 208, 143],\n",
              "         [177, 209, 144],\n",
              "         [176, 208, 143]],\n",
              "\n",
              "        ...,\n",
              "\n",
              "        [[142, 176, 118],\n",
              "         [142, 176, 118],\n",
              "         [150, 184, 127],\n",
              "         ...,\n",
              "         [134, 175, 119],\n",
              "         [128, 168, 112],\n",
              "         [134, 175, 119]],\n",
              "\n",
              "        [[140, 176, 124],\n",
              "         [145, 180, 129],\n",
              "         [150, 186, 134],\n",
              "         ...,\n",
              "         [131, 170, 119],\n",
              "         [130, 170, 119],\n",
              "         [122, 162, 111]],\n",
              "\n",
              "        [[134, 171, 123],\n",
              "         [136, 171, 124],\n",
              "         [136, 171, 124],\n",
              "         ...,\n",
              "         [106, 144, 100],\n",
              "         [104, 142,  99],\n",
              "         [101, 140,  96]]],\n",
              "\n",
              "\n",
              "       ...,\n",
              "\n",
              "\n",
              "       [[[ 35, 178, 235],\n",
              "         [ 40, 176, 239],\n",
              "         [ 42, 176, 241],\n",
              "         ...,\n",
              "         [ 99, 177, 219],\n",
              "         [ 79, 147, 197],\n",
              "         [ 89, 148, 189]],\n",
              "\n",
              "        [[ 57, 182, 234],\n",
              "         [ 44, 184, 250],\n",
              "         [ 50, 183, 240],\n",
              "         ...,\n",
              "         [156, 182, 200],\n",
              "         [141, 177, 206],\n",
              "         [116, 149, 175]],\n",
              "\n",
              "        [[ 98, 197, 237],\n",
              "         [ 64, 189, 252],\n",
              "         [ 69, 192, 245],\n",
              "         ...,\n",
              "         [188, 195, 206],\n",
              "         [119, 135, 147],\n",
              "         [ 61,  79,  90]],\n",
              "\n",
              "        ...,\n",
              "\n",
              "        [[ 73,  79,  77],\n",
              "         [ 53,  63,  68],\n",
              "         [ 54,  68,  80],\n",
              "         ...,\n",
              "         [ 17,  40,  64],\n",
              "         [ 21,  36,  51],\n",
              "         [ 33,  48,  49]],\n",
              "\n",
              "        [[ 61,  68,  75],\n",
              "         [ 55,  70,  86],\n",
              "         [ 57,  79, 103],\n",
              "         ...,\n",
              "         [ 24,  48,  72],\n",
              "         [ 17,  35,  53],\n",
              "         [  7,  23,  32]],\n",
              "\n",
              "        [[ 44,  56,  73],\n",
              "         [ 46,  66,  88],\n",
              "         [ 49,  77, 105],\n",
              "         ...,\n",
              "         [ 27,  52,  77],\n",
              "         [ 21,  43,  66],\n",
              "         [ 12,  31,  50]]],\n",
              "\n",
              "\n",
              "       [[[189, 211, 240],\n",
              "         [186, 208, 236],\n",
              "         [185, 207, 235],\n",
              "         ...,\n",
              "         [175, 195, 224],\n",
              "         [172, 194, 222],\n",
              "         [169, 194, 220]],\n",
              "\n",
              "        [[194, 210, 239],\n",
              "         [191, 207, 236],\n",
              "         [190, 206, 235],\n",
              "         ...,\n",
              "         [173, 192, 220],\n",
              "         [171, 191, 218],\n",
              "         [167, 190, 216]],\n",
              "\n",
              "        [[208, 219, 244],\n",
              "         [205, 216, 240],\n",
              "         [204, 215, 239],\n",
              "         ...,\n",
              "         [175, 191, 217],\n",
              "         [172, 190, 216],\n",
              "         [169, 191, 215]],\n",
              "\n",
              "        ...,\n",
              "\n",
              "        [[207, 199, 181],\n",
              "         [203, 195, 175],\n",
              "         [203, 196, 173],\n",
              "         ...,\n",
              "         [135, 132, 127],\n",
              "         [162, 158, 150],\n",
              "         [168, 163, 151]],\n",
              "\n",
              "        [[198, 190, 170],\n",
              "         [189, 181, 159],\n",
              "         [180, 172, 147],\n",
              "         ...,\n",
              "         [178, 171, 160],\n",
              "         [175, 169, 156],\n",
              "         [175, 169, 154]],\n",
              "\n",
              "        [[198, 189, 173],\n",
              "         [189, 181, 162],\n",
              "         [178, 170, 149],\n",
              "         ...,\n",
              "         [195, 184, 169],\n",
              "         [196, 189, 171],\n",
              "         [195, 190, 171]]],\n",
              "\n",
              "\n",
              "       [[[229, 229, 239],\n",
              "         [236, 237, 247],\n",
              "         [234, 236, 247],\n",
              "         ...,\n",
              "         [217, 219, 233],\n",
              "         [221, 223, 234],\n",
              "         [222, 223, 233]],\n",
              "\n",
              "        [[222, 221, 229],\n",
              "         [239, 239, 249],\n",
              "         [233, 234, 246],\n",
              "         ...,\n",
              "         [223, 223, 236],\n",
              "         [227, 228, 238],\n",
              "         [210, 211, 220]],\n",
              "\n",
              "        [[213, 206, 211],\n",
              "         [234, 232, 239],\n",
              "         [231, 233, 244],\n",
              "         ...,\n",
              "         [220, 220, 232],\n",
              "         [220, 219, 232],\n",
              "         [202, 203, 215]],\n",
              "\n",
              "        ...,\n",
              "\n",
              "        [[150, 143, 135],\n",
              "         [140, 135, 127],\n",
              "         [132, 127, 120],\n",
              "         ...,\n",
              "         [224, 222, 218],\n",
              "         [230, 228, 225],\n",
              "         [241, 241, 238]],\n",
              "\n",
              "        [[137, 132, 126],\n",
              "         [130, 127, 120],\n",
              "         [125, 121, 115],\n",
              "         ...,\n",
              "         [181, 180, 178],\n",
              "         [202, 201, 198],\n",
              "         [212, 211, 207]],\n",
              "\n",
              "        [[122, 119, 114],\n",
              "         [118, 116, 110],\n",
              "         [120, 116, 111],\n",
              "         ...,\n",
              "         [179, 177, 173],\n",
              "         [164, 164, 162],\n",
              "         [163, 163, 161]]]], dtype=uint8)"
            ]
          },
          "execution_count": 13,
          "metadata": {},
          "output_type": "execute_result"
        }
      ],
      "source": [
        "X_train[5:]"
      ],
      "id": "73843a7b"
    },
    {
      "cell_type": "code",
      "execution_count": null,
      "metadata": {
        "id": "0a984f02",
        "outputId": "95e92192-fd04-4a3e-ba6d-f55a405a005a",
        "colab": {
          "base_uri": "https://localhost:8080/"
        }
      },
      "outputs": [
        {
          "output_type": "execute_result",
          "data": {
            "text/plain": [
              "array([[6],\n",
              "       [9],\n",
              "       [9],\n",
              "       [4],\n",
              "       [1]], dtype=uint8)"
            ]
          },
          "metadata": {},
          "execution_count": 13
        }
      ],
      "source": [
        "y_train[:5]"
      ],
      "id": "0a984f02"
    },
    {
      "cell_type": "code",
      "execution_count": null,
      "metadata": {
        "id": "deeef392"
      },
      "outputs": [],
      "source": [
        "#CONVERTING y_train and y_test FROM 2D ARRAY TO 1D ARRAY, SINCE 1D ARRAY IS GOOD ENOUGH FOR THE CLASSIFICATION"
      ],
      "id": "deeef392"
    },
    {
      "cell_type": "code",
      "execution_count": null,
      "metadata": {
        "id": "bdb392b6",
        "outputId": "886197f6-586c-4536-92c9-e09205cb7a0c",
        "colab": {
          "base_uri": "https://localhost:8080/"
        }
      },
      "outputs": [
        {
          "output_type": "execute_result",
          "data": {
            "text/plain": [
              "array([6, 9, 9, 4, 1], dtype=uint8)"
            ]
          },
          "metadata": {},
          "execution_count": 14
        }
      ],
      "source": [
        "y_train = y_train.reshape(-1,)\n",
        "y_train[:5]"
      ],
      "id": "bdb392b6"
    },
    {
      "cell_type": "code",
      "execution_count": null,
      "metadata": {
        "id": "b1f73404",
        "outputId": "9f691a33-64e1-42ed-e2d4-85fe4cb49161",
        "colab": {
          "base_uri": "https://localhost:8080/"
        }
      },
      "outputs": [
        {
          "output_type": "execute_result",
          "data": {
            "text/plain": [
              "array([3, 8, 8, 0, 6], dtype=uint8)"
            ]
          },
          "metadata": {},
          "execution_count": 15
        }
      ],
      "source": [
        "y_test = y_test.reshape(-1,)\n",
        "y_test[:5]"
      ],
      "id": "b1f73404"
    },
    {
      "cell_type": "code",
      "execution_count": null,
      "metadata": {
        "id": "753d3635",
        "outputId": "560562a2-d513-4cd5-bb72-5aaedb9ead96",
        "scrolled": true,
        "colab": {
          "base_uri": "https://localhost:8080/",
          "height": 293
        }
      },
      "outputs": [
        {
          "output_type": "execute_result",
          "data": {
            "text/plain": [
              "<matplotlib.image.AxesImage at 0x7fce6f75c0d0>"
            ]
          },
          "metadata": {},
          "execution_count": 16
        },
        {
          "output_type": "display_data",
          "data": {
            "text/plain": [
              "<Figure size 288x288 with 1 Axes>"
            ],
            "image/png": "[encoded data removed]"
          },
          "metadata": {
            "needs_background": "light"
          }
        }
      ],
      "source": [
        "#visualize the first image\n",
        "plt.matshow(X_train[0])"
      ],
      "id": "753d3635"
    },
    {
      "cell_type": "code",
      "execution_count": null,
      "metadata": {
        "id": "bf63ef89"
      },
      "outputs": [],
      "source": [
        "#INTRODCING THE CLASSES OF THE DATASET FOR PROPER LABELLING"
      ],
      "id": "bf63ef89"
    },
    {
      "cell_type": "code",
      "execution_count": null,
      "metadata": {
        "id": "0700008d"
      },
      "outputs": [],
      "source": [
        "classes = [\"airplane\",\"automobile\",\"bird\",\"cat\",\"deer\",\"dog\",\"frog\",\"horse\",\"ship\",\"truck\"]"
      ],
      "id": "0700008d"
    },
    {
      "cell_type": "code",
      "execution_count": null,
      "metadata": {
        "id": "ae2b61e0"
      },
      "outputs": [],
      "source": [
        "def plot_preview(X, y, index):\n",
        "    plt.figure(figsize = (15,2))\n",
        "    plt.imshow(X[index])\n",
        "    plt.xlabel(classes[y[index]])"
      ],
      "id": "ae2b61e0"
    },
    {
      "cell_type": "code",
      "execution_count": null,
      "metadata": {
        "id": "ee69e58f",
        "outputId": "762278e4-ce4d-43c6-9e14-279c59c791f6",
        "colab": {
          "base_uri": "https://localhost:8080/",
          "height": 173
        }
      },
      "outputs": [
        {
          "output_type": "display_data",
          "data": {
            "text/plain": [
              "<Figure size 1080x144 with 1 Axes>"
            ],
            "image/png": "[encoded data removed]"
          },
          "metadata": {
            "needs_background": "light"
          }
        }
      ],
      "source": [
        "plot_preview(X_train, y_train, 3)"
      ],
      "id": "ee69e58f"
    },
    {
      "cell_type": "code",
      "execution_count": null,
      "metadata": {
        "id": "c7e99b88",
        "outputId": "d90038ca-8b14-42c1-cb90-3537f4cf99de",
        "colab": {
          "base_uri": "https://localhost:8080/",
          "height": 173
        }
      },
      "outputs": [
        {
          "output_type": "display_data",
          "data": {
            "text/plain": [
              "<Figure size 1080x144 with 1 Axes>"
            ],
            "image/png": "[encoded data removed]"
          },
          "metadata": {
            "needs_background": "light"
          }
        }
      ],
      "source": [
        "plot_preview(X_train, y_train,8)"
      ],
      "id": "c7e99b88"
    },
    {
      "cell_type": "code",
      "execution_count": null,
      "metadata": {
        "id": "08c9a7a7"
      },
      "outputs": [],
      "source": [
        "#NORMALISE DATASET (x_train and x_test), SO THAT THE VALUES OF THE VARIABLE WOULD RANGE BETWEEN 0 AND 1"
      ],
      "id": "08c9a7a7"
    },
    {
      "cell_type": "code",
      "execution_count": null,
      "metadata": {
        "id": "4a800945"
      },
      "outputs": [],
      "source": [
        "X_train = X_train / 255\n",
        "X_test = X_test / 255"
      ],
      "id": "4a800945"
    },
    {
      "cell_type": "code",
      "execution_count": null,
      "metadata": {
        "id": "8c785d63",
        "outputId": "7beab583-69e1-444b-e4b6-a5b58c6286d6",
        "scrolled": true,
        "colab": {
          "base_uri": "https://localhost:8080/"
        }
      },
      "outputs": [
        {
          "output_type": "execute_result",
          "data": {
            "text/plain": [
              "array([[[0.23137255, 0.24313725, 0.24705882],\n",
              "        [0.16862745, 0.18039216, 0.17647059],\n",
              "        [0.19607843, 0.18823529, 0.16862745],\n",
              "        ...,\n",
              "        [0.61960784, 0.51764706, 0.42352941],\n",
              "        [0.59607843, 0.49019608, 0.4       ],\n",
              "        [0.58039216, 0.48627451, 0.40392157]],\n",
              "\n",
              "       [[0.0627451 , 0.07843137, 0.07843137],\n",
              "        [0.        , 0.        , 0.        ],\n",
              "        [0.07058824, 0.03137255, 0.        ],\n",
              "        ...,\n",
              "        [0.48235294, 0.34509804, 0.21568627],\n",
              "        [0.46666667, 0.3254902 , 0.19607843],\n",
              "        [0.47843137, 0.34117647, 0.22352941]],\n",
              "\n",
              "       [[0.09803922, 0.09411765, 0.08235294],\n",
              "        [0.0627451 , 0.02745098, 0.        ],\n",
              "        [0.19215686, 0.10588235, 0.03137255],\n",
              "        ...,\n",
              "        [0.4627451 , 0.32941176, 0.19607843],\n",
              "        [0.47058824, 0.32941176, 0.19607843],\n",
              "        [0.42745098, 0.28627451, 0.16470588]],\n",
              "\n",
              "       ...,\n",
              "\n",
              "       [[0.81568627, 0.66666667, 0.37647059],\n",
              "        [0.78823529, 0.6       , 0.13333333],\n",
              "        [0.77647059, 0.63137255, 0.10196078],\n",
              "        ...,\n",
              "        [0.62745098, 0.52156863, 0.2745098 ],\n",
              "        [0.21960784, 0.12156863, 0.02745098],\n",
              "        [0.20784314, 0.13333333, 0.07843137]],\n",
              "\n",
              "       [[0.70588235, 0.54509804, 0.37647059],\n",
              "        [0.67843137, 0.48235294, 0.16470588],\n",
              "        [0.72941176, 0.56470588, 0.11764706],\n",
              "        ...,\n",
              "        [0.72156863, 0.58039216, 0.36862745],\n",
              "        [0.38039216, 0.24313725, 0.13333333],\n",
              "        [0.3254902 , 0.20784314, 0.13333333]],\n",
              "\n",
              "       [[0.69411765, 0.56470588, 0.45490196],\n",
              "        [0.65882353, 0.50588235, 0.36862745],\n",
              "        [0.70196078, 0.55686275, 0.34117647],\n",
              "        ...,\n",
              "        [0.84705882, 0.72156863, 0.54901961],\n",
              "        [0.59215686, 0.4627451 , 0.32941176],\n",
              "        [0.48235294, 0.36078431, 0.28235294]]])"
            ]
          },
          "metadata": {},
          "execution_count": 23
        }
      ],
      "source": [
        "X_train[0]"
      ],
      "id": "8c785d63"
    },
    {
      "cell_type": "code",
      "execution_count": null,
      "metadata": {
        "id": "919d581f"
      },
      "outputs": [],
      "source": [],
      "id": "919d581f"
    },
    {
      "cell_type": "code",
      "execution_count": null,
      "metadata": {
        "id": "1279bf23"
      },
      "outputs": [],
      "source": [],
      "id": "1279bf23"
    },
    {
      "cell_type": "code",
      "execution_count": null,
      "metadata": {
        "id": "8322be81"
      },
      "outputs": [],
      "source": [
        "#BUILDING CONVOLUTIONAL NEURAL NETWORK FOR IMAGE CLASSIFICATION"
      ],
      "id": "8322be81"
    },
    {
      "cell_type": "code",
      "execution_count": null,
      "metadata": {
        "id": "acd3d31e",
        "scrolled": true
      },
      "outputs": [],
      "source": [
        "cnn = models.Sequential([\n",
        "    layers.Conv2D(filters=32, kernel_size=(3, 3), activation='relu', input_shape=(32, 32, 3)),\n",
        "    layers.MaxPooling2D((2, 2)),\n",
        "    \n",
        "    layers.Conv2D(filters=512, kernel_size=(3, 3), activation='relu'),\n",
        "    layers.MaxPooling2D((2, 2)),\n",
        "    \n",
        "    layers.Conv2D(filters=512, kernel_size=(3, 3), activation='relu'),\n",
        "    layers.MaxPooling2D((2, 2)),\n",
        "    \n",
        "    \n",
        "    layers.Flatten(),\n",
        "    layers.Dense(64, activation='relu'),\n",
        "    layers.Dense(10, activation='softmax')\n",
        "])"
      ],
      "id": "acd3d31e"
    },
    {
      "cell_type": "code",
      "execution_count": null,
      "metadata": {
        "id": "7403b317"
      },
      "outputs": [],
      "source": [
        "cnn.compile(optimizer='adam',\n",
        "              loss='sparse_categorical_crossentropy',\n",
        "               metrics=['accuracy'])"
      ],
      "id": "7403b317"
    },
    {
      "cell_type": "code",
      "execution_count": null,
      "metadata": {
        "id": "888257f2",
        "outputId": "063d9b88-e90e-4069-f8e9-1b5cde17f652",
        "scrolled": false
      },
      "outputs": [
        {
          "name": "stdout",
          "output_type": "stream",
          "text": [
            "Epoch 1/20\n",
            "1563/1563 [==============================] - 189s 120ms/step - loss: 1.3854 - accuracy: 0.5015\n",
            "Epoch 2/20\n",
            "1563/1563 [==============================] - 211s 135ms/step - loss: 0.9583 - accuracy: 0.6672\n",
            "Epoch 3/20\n",
            "1563/1563 [==============================] - 225s 144ms/step - loss: 0.7589 - accuracy: 0.7383\n",
            "Epoch 4/20\n",
            "1563/1563 [==============================] - 232s 149ms/step - loss: 0.6082 - accuracy: 0.7901\n",
            "Epoch 5/20\n",
            "1563/1563 [==============================] - 236s 151ms/step - loss: 0.4792 - accuracy: 0.8323\n",
            "Epoch 6/20\n",
            "1563/1563 [==============================] - 240s 153ms/step - loss: 0.3671 - accuracy: 0.8736\n",
            "Epoch 7/20\n",
            "1563/1563 [==============================] - 238s 152ms/step - loss: 0.2808 - accuracy: 0.9024\n",
            "Epoch 8/20\n",
            "1563/1563 [==============================] - 238s 152ms/step - loss: 0.2102 - accuracy: 0.9271\n",
            "Epoch 9/20\n",
            "1563/1563 [==============================] - 238s 152ms/step - loss: 0.1682 - accuracy: 0.9416\n",
            "Epoch 10/20\n",
            "1563/1563 [==============================] - 240s 154ms/step - loss: 0.1412 - accuracy: 0.9512\n",
            "Epoch 11/20\n",
            "1563/1563 [==============================] - 240s 153ms/step - loss: 0.1291 - accuracy: 0.9546\n",
            "Epoch 12/20\n",
            "1563/1563 [==============================] - 240s 153ms/step - loss: 0.1040 - accuracy: 0.9640\n",
            "Epoch 13/20\n",
            "1563/1563 [==============================] - 236s 151ms/step - loss: 0.1098 - accuracy: 0.9619\n",
            "Epoch 14/20\n",
            "1563/1563 [==============================] - 236s 151ms/step - loss: 0.1027 - accuracy: 0.9652\n",
            "Epoch 15/20\n",
            "1563/1563 [==============================] - 240s 153ms/step - loss: 0.0844 - accuracy: 0.9707\n",
            "Epoch 16/20\n",
            "1563/1563 [==============================] - 239s 153ms/step - loss: 0.0961 - accuracy: 0.9672\n",
            "Epoch 17/20\n",
            "1563/1563 [==============================] - 240s 153ms/step - loss: 0.0810 - accuracy: 0.9727\n",
            "Epoch 18/20\n",
            "1563/1563 [==============================] - 240s 154ms/step - loss: 0.0818 - accuracy: 0.9733\n",
            "Epoch 19/20\n",
            "1563/1563 [==============================] - 242s 155ms/step - loss: 0.0814 - accuracy: 0.9734\n",
            "Epoch 20/20\n",
            "1563/1563 [==============================] - 240s 154ms/step - loss: 0.0739 - accuracy: 0.9754\n"
          ]
        },
        {
          "data": {
            "text/plain": [
              "<keras.callbacks.History at 0x2b2f81fbc70>"
            ]
          },
          "execution_count": 30,
          "metadata": {},
          "output_type": "execute_result"
        }
      ],
      "source": [
        "cnn.fit(X_train, y_train, epochs=20)"
      ],
      "id": "888257f2"
    },
    {
      "cell_type": "code",
      "execution_count": null,
      "metadata": {
        "id": "af9ce2bd"
      },
      "outputs": [],
      "source": [
        "#RUNNING CLASSIFICATION REPORT"
      ],
      "id": "af9ce2bd"
    },
    {
      "cell_type": "code",
      "execution_count": null,
      "metadata": {
        "id": "699bb1c4",
        "outputId": "e8dd9917-8187-4d19-ae9e-c87b47b33613"
      },
      "outputs": [
        {
          "name": "stdout",
          "output_type": "stream",
          "text": [
            "313/313 [==============================] - 7s 23ms/step\n",
            "Classification Report: \n",
            "               precision    recall  f1-score   support\n",
            "\n",
            "           0       0.84      0.73      0.78      1000\n",
            "           1       0.87      0.84      0.85      1000\n",
            "           2       0.73      0.57      0.64      1000\n",
            "           3       0.61      0.57      0.59      1000\n",
            "           4       0.64      0.78      0.70      1000\n",
            "           5       0.64      0.66      0.65      1000\n",
            "           6       0.76      0.83      0.79      1000\n",
            "           7       0.79      0.73      0.76      1000\n",
            "           8       0.84      0.82      0.83      1000\n",
            "           9       0.73      0.86      0.79      1000\n",
            "\n",
            "    accuracy                           0.74     10000\n",
            "   macro avg       0.74      0.74      0.74     10000\n",
            "weighted avg       0.74      0.74      0.74     10000\n",
            "\n"
          ]
        }
      ],
      "source": [
        "from sklearn.metrics import confusion_matrix , classification_report\n",
        "import numpy as np\n",
        "y_pred = cnn.predict(X_test)\n",
        "y_pred_classes = [np.argmax(element) for element in y_pred]\n",
        "\n",
        "print(\"Classification Report: \\n\", classification_report(y_test, y_pred_classes))"
      ],
      "id": "699bb1c4"
    },
    {
      "cell_type": "code",
      "execution_count": null,
      "metadata": {
        "id": "efa2b6e9",
        "outputId": "39ea9eb9-04cb-4623-efdb-165e30bf4b35"
      },
      "outputs": [
        {
          "name": "stdout",
          "output_type": "stream",
          "text": [
            "313/313 [==============================] - 7s 22ms/step - loss: 1.7730 - accuracy: 0.7402\n"
          ]
        },
        {
          "data": {
            "text/plain": [
              "[1.7730391025543213, 0.7401999831199646]"
            ]
          },
          "execution_count": 32,
          "metadata": {},
          "output_type": "execute_result"
        }
      ],
      "source": [
        "cnn.evaluate(X_test,y_test)"
      ],
      "id": "efa2b6e9"
    },
    {
      "cell_type": "code",
      "execution_count": null,
      "metadata": {
        "id": "66c6c840",
        "outputId": "177dbe51-0f3a-46f6-a3de-6e2dd8b3f76c",
        "scrolled": false
      },
      "outputs": [
        {
          "name": "stdout",
          "output_type": "stream",
          "text": [
            "313/313 [==============================] - 7s 22ms/step\n"
          ]
        },
        {
          "data": {
            "text/plain": [
              "array([[3.29044519e-06, 5.05597200e-08, 4.63223514e-05, 3.97587508e-01,\n",
              "        4.00490752e-12, 6.02285504e-01, 1.02241654e-06, 1.22926794e-10,\n",
              "        7.62912678e-05, 5.37118849e-10],\n",
              "       [1.49711406e-11, 1.23317342e-03, 5.48611739e-22, 2.65893651e-18,\n",
              "        5.49678836e-19, 7.69667654e-18, 5.53132121e-21, 2.97535264e-14,\n",
              "        9.98551071e-01, 2.15706968e-04],\n",
              "       [1.48546640e-02, 7.33836517e-02, 9.92796245e-09, 2.00263421e-05,\n",
              "        2.94140656e-10, 1.55797526e-08, 3.32024638e-06, 1.18009522e-08,\n",
              "        1.41642779e-01, 7.70095527e-01],\n",
              "       [9.99912620e-01, 7.69214676e-05, 9.52239733e-16, 6.79407475e-10,\n",
              "        4.60239256e-17, 3.58265370e-16, 9.33515943e-15, 1.14268442e-17,\n",
              "        3.69665554e-06, 6.78064498e-06],\n",
              "       [2.69580147e-17, 8.02622348e-17, 3.90665974e-07, 5.52637648e-05,\n",
              "        9.99543488e-01, 3.77782056e-10, 4.00746125e-04, 3.89261512e-10,\n",
              "        7.52440712e-14, 5.95548947e-13],\n",
              "       [1.54073111e-18, 3.92700273e-18, 1.75541558e-12, 4.89793405e-12,\n",
              "        7.99912775e-11, 1.02068425e-08, 1.00000000e+00, 6.31221912e-15,\n",
              "        4.42494065e-19, 1.17081708e-18],\n",
              "       [1.77981562e-07, 3.45318951e-03, 2.50268317e-09, 1.02687838e-04,\n",
              "        8.01141445e-12, 9.96414900e-01, 8.51315962e-11, 7.13769183e-11,\n",
              "        1.27432006e-11, 2.88748543e-05]], dtype=float32)"
            ]
          },
          "execution_count": 33,
          "metadata": {},
          "output_type": "execute_result"
        }
      ],
      "source": [
        "y_pred = cnn.predict(X_test)\n",
        "y_pred[:7]"
      ],
      "id": "66c6c840"
    },
    {
      "cell_type": "code",
      "execution_count": null,
      "metadata": {
        "id": "2a34c184",
        "outputId": "600b3d1f-1cd8-4eed-d2e4-4bf1f990fd51",
        "scrolled": true
      },
      "outputs": [
        {
          "data": {
            "image/png": "[encoded data removed]",
            "text/plain": [
              "<Figure size 1080x144 with 1 Axes>"
            ]
          },
          "metadata": {},
          "output_type": "display_data"
        }
      ],
      "source": [
        "plot_preview(X_test, y_test,6)"
      ],
      "id": "2a34c184"
    },
    {
      "cell_type": "code",
      "execution_count": null,
      "metadata": {
        "id": "66022f08",
        "outputId": "83c97d0f-27eb-465b-d76f-b998489e75fd"
      },
      "outputs": [
        {
          "data": {
            "image/png": "[encoded data removed]",
            "text/plain": [
              "<Figure size 1080x144 with 1 Axes>"
            ]
          },
          "metadata": {},
          "output_type": "display_data"
        }
      ],
      "source": [
        "plot_preview(X_test, y_test,88)"
      ],
      "id": "66022f08"
    },
    {
      "cell_type": "code",
      "execution_count": null,
      "metadata": {
        "id": "2b9c9e27",
        "outputId": "4469ac53-0c8e-42c9-9ac9-59555afd7035"
      },
      "outputs": [
        {
          "data": {
            "text/plain": [
              "'automobile'"
            ]
          },
          "execution_count": 251,
          "metadata": {},
          "output_type": "execute_result"
        }
      ],
      "source": [
        "classes[y_test[9998]]"
      ],
      "id": "2b9c9e27"
    },
    {
      "cell_type": "code",
      "execution_count": null,
      "metadata": {
        "id": "ced6da03"
      },
      "outputs": [],
      "source": [],
      "id": "ced6da03"
    }
  ],
  "metadata": {
    "colab": {
      "collapsed_sections": [],
      "provenance": [],
      "include_colab_link": true
    },
    "kernelspec": {
      "display_name": "Python 3 (ipykernel)",
      "language": "python",
      "name": "python3"
    },
    "language_info": {
      "codemirror_mode": {
        "name": "ipython",
        "version": 3
      },
      "file_extension": ".py",
      "mimetype": "text/x-python",
      "name": "python",
      "nbconvert_exporter": "python",
      "pygments_lexer": "ipython3",
      "version": "3.9.12"
    }
  },
  "nbformat": 4,
  "nbformat_minor": 5
}